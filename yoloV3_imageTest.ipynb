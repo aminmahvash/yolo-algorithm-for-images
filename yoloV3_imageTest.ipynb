{
 "cells": [
  {
   "cell_type": "markdown",
   "id": "30d28d1d-9816-478d-9442-2e06c4a8d638",
   "metadata": {
    "panel-layout": {
     "height": 268.421875,
     "visible": true,
     "width": 100
    }
   },
   "source": [
    "# yolo algorithm\n",
    "at first we should import objectdetection from imageai.detection class\n",
    "\n",
    "you must install sth to use imageai\n",
    "\n",
    "pip install imageai --upgrade\n",
    "\n",
    "pip install tensorflow\n",
    "\n",
    "pip install keras\n",
    "\n",
    "pip install opencv-python\n",
    "\n",
    "pip install torch torchvision"
   ]
  },
  {
   "cell_type": "code",
   "execution_count": 56,
   "id": "71393beb-4f4d-410d-8bd5-9e29c7ee2842",
   "metadata": {},
   "outputs": [],
   "source": [
    "from imageai.Detection import ObjectDetection\n",
    "import os"
   ]
  },
  {
   "cell_type": "code",
   "execution_count": 57,
   "id": "44630c58-b884-459e-b456-153d871bb054",
   "metadata": {
    "panel-layout": {
     "height": 0,
     "visible": true,
     "width": 100
    }
   },
   "outputs": [],
   "source": [
    "detector = ObjectDetection()\n",
    "detector.setModelTypeAsYOLOv3()"
   ]
  },
  {
   "cell_type": "markdown",
   "id": "596b4d6d-1a5d-421e-acfa-270a477ac59c",
   "metadata": {
    "panel-layout": {
     "height": 68.28125,
     "visible": true,
     "width": 100
    }
   },
   "source": [
    "we must install this: \"https://github.com/OlafenwaMoses/ImageAI/releases/download/3.0.0-pretrained/yolov3.pt\"\n",
    "and load"
   ]
  },
  {
   "cell_type": "code",
   "execution_count": 67,
   "id": "731ccba6-b201-4611-9cd7-61d4ab3049eb",
   "metadata": {},
   "outputs": [],
   "source": [
    "model_path = \"C:\\\\yolo\"\n",
    "images_path = \"C:\\\\yolo\""
   ]
  },
  {
   "cell_type": "code",
   "execution_count": 68,
   "id": "9595cefb-401e-4a1e-a124-3eab6787ae08",
   "metadata": {
    "panel-layout": {
     "height": 0,
     "visible": true,
     "width": 100
    }
   },
   "outputs": [],
   "source": [
    "detector.setModelPath(os.path.join(model_path , \"yolov3.pt\"))"
   ]
  },
  {
   "cell_type": "code",
   "execution_count": 69,
   "id": "88dfbd2f-caad-4f1b-9766-70e977da15ad",
   "metadata": {
    "panel-layout": {
     "height": 0,
     "visible": true,
     "width": 100
    }
   },
   "outputs": [],
   "source": [
    "detector.loadModel()"
   ]
  },
  {
   "cell_type": "code",
   "execution_count": 72,
   "id": "fbf78309-7a07-485f-83e0-57c1ab84837c",
   "metadata": {},
   "outputs": [],
   "source": [
    "detection = detector.detectObjectsFromImage(input_image=os.path.join(images_path, \"input_image\\\\04_tehran.png\"), output_image_path = os.path.join(images_path, \"output_image\\\\04_tehran_detected.jpg\"))"
   ]
  },
  {
   "cell_type": "code",
   "execution_count": 73,
   "id": "b12654ed-aa31-458f-b584-608b87405eda",
   "metadata": {},
   "outputs": [],
   "source": [
    "detection = detector.detectObjectsFromImage(input_image=os.path.join(images_path, \"input_image\\\\05_tehran.jpg\"), output_image_path = os.path.join(images_path, \"output_image\\\\05_tehran_detected.jpg\"))"
   ]
  }
 ],
 "metadata": {
  "kernelspec": {
   "display_name": "Python 3 (ipykernel)",
   "language": "python",
   "name": "python3"
  },
  "language_info": {
   "codemirror_mode": {
    "name": "ipython",
    "version": 3
   },
   "file_extension": ".py",
   "mimetype": "text/x-python",
   "name": "python",
   "nbconvert_exporter": "python",
   "pygments_lexer": "ipython3",
   "version": "3.12.7"
  },
  "panel-cell-order": [
   "30d28d1d-9816-478d-9442-2e06c4a8d638",
   "44630c58-b884-459e-b456-153d871bb054",
   "596b4d6d-1a5d-421e-acfa-270a477ac59c",
   "9595cefb-401e-4a1e-a124-3eab6787ae08",
   "88dfbd2f-caad-4f1b-9766-70e977da15ad"
  ]
 },
 "nbformat": 4,
 "nbformat_minor": 5
}
